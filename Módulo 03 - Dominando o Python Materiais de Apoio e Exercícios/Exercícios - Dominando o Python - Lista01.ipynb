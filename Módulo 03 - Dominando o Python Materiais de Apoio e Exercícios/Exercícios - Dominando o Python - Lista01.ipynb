{
 "cells": [
  {
   "cell_type": "markdown",
   "metadata": {
    "colab_type": "text",
    "id": "t8qG28pDnfuM"
   },
   "source": [
    "# Exercícios - Capítulo Dominando o Python"
   ]
  },
  {
   "cell_type": "markdown",
   "metadata": {
    "colab_type": "text",
    "id": "N9fXnHvPnfuN"
   },
   "source": [
    "1) Imprima a frase \"Eu sou Minerador de Dados!\""
   ]
  },
  {
   "cell_type": "code",
   "execution_count": 1,
   "metadata": {},
   "outputs": [
    {
     "name": "stdout",
     "output_type": "stream",
     "text": [
      "Eu sou Minerador de Dados!\n"
     ]
    }
   ],
   "source": [
    "print(\"Eu sou Minerador de Dados!\")"
   ]
  },
  {
   "cell_type": "markdown",
   "metadata": {
    "colab_type": "text",
    "id": "dK5aLDPDnfuO"
   },
   "source": [
    "2) Faça operações matemáticas de soma, subtração, multiplicação e divisão."
   ]
  },
  {
   "cell_type": "code",
   "execution_count": 15,
   "metadata": {},
   "outputs": [
    {
     "name": "stdout",
     "output_type": "stream",
     "text": [
      "5 + 2 = 7\n",
      "5 * 2 = 10\n",
      "5 / 2 = 2.5\n"
     ]
    }
   ],
   "source": [
    "num1 = 5\n",
    "num2 = 2\n",
    "soma = num1 + num2\n",
    "multiplicacao = num1 * num2\n",
    "divisao = num1 / num2\n",
    "print(f'{num1} + {num2} = {soma}')\n",
    "print(f'{num1} * {num2} = {multiplicacao}')\n",
    "print(f'{num1} / {num2} = {divisao}')\n"
   ]
  },
  {
   "cell_type": "markdown",
   "metadata": {
    "colab_type": "text",
    "id": "Y1hfyqi3nfuO"
   },
   "source": [
    "3) Imprima o tipo de um determinado valor inteiro."
   ]
  },
  {
   "cell_type": "code",
   "execution_count": 16,
   "metadata": {},
   "outputs": [
    {
     "data": {
      "text/plain": [
       "int"
      ]
     },
     "execution_count": 16,
     "metadata": {},
     "output_type": "execute_result"
    }
   ],
   "source": [
    "type(soma)"
   ]
  },
  {
   "cell_type": "markdown",
   "metadata": {
    "colab_type": "text",
    "id": "lpMenLb2nfuP"
   },
   "source": [
    "4) Converta o valor passado anteriormente para o tipo float"
   ]
  },
  {
   "cell_type": "code",
   "execution_count": 18,
   "metadata": {},
   "outputs": [
    {
     "name": "stdout",
     "output_type": "stream",
     "text": [
      "<class 'float'>\n"
     ]
    }
   ],
   "source": [
    "soma = float(soma)\n",
    "print(type(soma))\n"
   ]
  },
  {
   "cell_type": "markdown",
   "metadata": {
    "colab_type": "text",
    "id": "L3naneHLnfuP"
   },
   "source": [
    "5) Faça a conversão do valor float recebido anteriormente para o tipo string"
   ]
  },
  {
   "cell_type": "code",
   "execution_count": 19,
   "metadata": {},
   "outputs": [
    {
     "name": "stdout",
     "output_type": "stream",
     "text": [
      "<class 'str'>\n"
     ]
    }
   ],
   "source": [
    "soma = str(soma)\n",
    "print(type(soma))"
   ]
  },
  {
   "cell_type": "markdown",
   "metadata": {
    "colab_type": "text",
    "id": "DfN6mDVonfuQ"
   },
   "source": [
    "6) Utilizando funções de arredonamento faça:\n",
    "- Arredonde o valor 2.898\n",
    "- Arredonde o valor 2.4545455 e exiba apenas 4 cadas decimais"
   ]
  },
  {
   "cell_type": "code",
   "execution_count": 23,
   "metadata": {},
   "outputs": [
    {
     "name": "stdout",
     "output_type": "stream",
     "text": [
      "3\n",
      "2.4545\n"
     ]
    }
   ],
   "source": [
    "valor1 = round(2.898)\n",
    "print(valor1)\n",
    "valor2 = round(2.4545455, 4)\n",
    "print(valor2)"
   ]
  },
  {
   "cell_type": "markdown",
   "metadata": {
    "colab_type": "text",
    "id": "rKA0Gdl0nfuQ"
   },
   "source": [
    "7) Utilizando variáveis faça:\n",
    "- Defina uma variável com o seu nome e imprima o seu valor.\n",
    "- Imprima o tipo dessa variável.\n",
    "- Substitua o valor da sua variável nome com a concatenação do seu valor e o seu sobrenome, depois, imprima o novo valor.\n",
    "    - obs: O resultado dessa variável será Nome Sobrenome, exemplo, Felipe Santana.\n",
    "- Defina duas variaveis com os valores do seu email e idade com apenas uma linha de comando, depois, imprima seus valores."
   ]
  },
  {
   "cell_type": "code",
   "execution_count": 31,
   "metadata": {},
   "outputs": [
    {
     "name": "stdout",
     "output_type": "stream",
     "text": [
      "Derson \n",
      "<class 'str'>\n",
      "Derson Sousa\n",
      "emailteste@gmail.com 29\n"
     ]
    }
   ],
   "source": [
    "nome = 'Derson '\n",
    "print(nome)\n",
    "print(type(nome))\n",
    "nome += 'Sousa'\n",
    "print(nome)\n",
    "\n",
    "email, idade = 'emailteste@gmail.com', 29\n",
    "print(email, idade)"
   ]
  },
  {
   "cell_type": "markdown",
   "metadata": {
    "colab_type": "text",
    "id": "Xj8LZ11infuR"
   },
   "source": [
    "8) Explique a causa do erro se executar a seguinte instrução para criar uma nova variável: break=10"
   ]
  },
  {
   "cell_type": "code",
   "execution_count": 32,
   "metadata": {},
   "outputs": [
    {
     "data": {
      "text/plain": [
       "'Resposta: O Python não aceita declaração de variáveis utilizando palavras reservadas.'"
      ]
     },
     "execution_count": 32,
     "metadata": {},
     "output_type": "execute_result"
    }
   ],
   "source": [
    "'Resposta: O Python não aceita declaração de variáveis utilizando palavras reservadas.'"
   ]
  },
  {
   "cell_type": "markdown",
   "metadata": {
    "colab_type": "text",
    "id": "UipeTegTnfuS"
   },
   "source": [
    "9) Sobre os objetos Strings, faça:\n",
    "- Defina uma variavel com a string: \"Python é uma maldição!\" e imprima\n",
    "- Imprima o primeiro caracter da variavel.\n",
    "- Imprima os valores do primeiro caracter até o 6.\n",
    "- Faça a contagem de todos os caracteres utilizando uma única linha de comando.\n",
    "- Faça uma contagem de quantos vezes a palavra dados aparece na seguinte frase:\n",
    "    - \"dados é o novo petróleo, em Deus eu confio, para o resto me traga dados..\"\n",
    "- Substitua o primeiro caracter da frase acima para maiúsculo\n",
    "- Quebre as palavras da frase separado por virgula, criando uma lista."
   ]
  },
  {
   "cell_type": "code",
   "execution_count": 52,
   "metadata": {},
   "outputs": [
    {
     "name": "stdout",
     "output_type": "stream",
     "text": [
      "Python é uma maldição!\n",
      "P\n",
      "Python\n",
      "22\n",
      "2\n",
      "Dados é o novo petróleo, em deus eu confio, para o resto me traga dados..\n"
     ]
    },
    {
     "data": {
      "text/plain": [
       "['dados é o novo petróleo',\n",
       " ' em Deus eu confio',\n",
       " ' para o resto me traga dados..']"
      ]
     },
     "execution_count": 52,
     "metadata": {},
     "output_type": "execute_result"
    }
   ],
   "source": [
    "frase1 = \"Python é uma maldição!\"\n",
    "frase2 = \"dados é o novo petróleo, em Deus eu confio, para o resto me traga dados..\"\n",
    "\n",
    "print(frase1)\n",
    "print(frase1[0])\n",
    "print(frase1[:6])\n",
    "print(len(frase1))\n",
    "print(frase2.count('dados'))\n",
    "print(frase2.capitalize())\n",
    "frase2.split(',')\n",
    "\n",
    "\n"
   ]
  },
  {
   "cell_type": "markdown",
   "metadata": {
    "colab_type": "text",
    "id": "sOfK05ypnfuS"
   },
   "source": [
    "10) Trabalhando com Listas, faça:\n",
    "- Cria uma lista de valores inteiros com o nome idades.\n",
    "- Imprima apenas segundo elemento da lista.\n",
    "- Imprima a contagem de valores da lista.\n",
    "- Substitua o valor do segundo elemento da lista e imprima o resultado.\n",
    "- Imprima apenas os valores do segundo elemento em diante.\n",
    "- Remova qualquer elemento da lista e imprima o resultado.\n",
    "- Defina uma lista chamada salarios com os valores : 900,1200,1500,800,12587,10000.\n",
    "- Verifique se contém o valor 10000 na lista de salarios.\n",
    "- Imprima o menor e maior valor da lista.\n",
    "- Adicione o valor 7000 a lista.\n",
    "- Extenda a lista com dois novos elementos utilizando apenas um método.\n",
    "- Imprima o índice do elemento de valor 800 da lista de salarios.\n",
    "- Faça uma ordenação dos valores da lista de salarios em ordem crescente e decrescente."
   ]
  },
  {
   "cell_type": "code",
   "execution_count": 118,
   "metadata": {},
   "outputs": [
    {
     "name": "stdout",
     "output_type": "stream",
     "text": [
      "[18, 22, 45, 38, 78, 25]\n",
      "22\n",
      "6\n",
      "[18, 30, 45, 38, 78, 25]\n",
      "[30, 45, 38, 78, 25]\n",
      "[18, 45, 38, 78, 25]\n",
      "[900, 1200, 1500, 800, 12587, 10000]\n",
      "Menor valor: 800 e Maior valor: 12587\n",
      "[900, 1200, 1500, 800, 12587, 10000, 7000]\n",
      "[900, 1200, 1500, 800, 12587, 10000, 7000, 8000, 9000]\n",
      "Index: 3 - Valor: 800\n",
      "[800, 900, 1200, 1500, 7000, 8000, 9000, 10000, 12587]\n",
      "[12587, 10000, 9000, 8000, 7000, 1500, 1200, 900, 800]\n"
     ]
    }
   ],
   "source": [
    "idades = [18,22,45,38,78,25]\n",
    "print(idades)\n",
    "print(idades[1])\n",
    "print(len(idades))\n",
    "idades[1] = 30\n",
    "print(idades)\n",
    "print(idades[1:])\n",
    "idades.remove(30)\n",
    "print(idades)\n",
    "salarios = [900,1200,1500,800,12587,10000]\n",
    "print(salarios)\n",
    "10000 in salarios\n",
    "print(f'Menor valor: {min(salarios)} e Maior valor: {max(salarios)}')\n",
    "salarios.append(7000)\n",
    "print(salarios)\n",
    "salarios.extend([8000, 9000])\n",
    "print(salarios)\n",
    "print(f'Index: {salarios.index(800)} - Valor: {salarios[3]}')\n",
    "salarios.sort()\n",
    "print(salarios)\n",
    "salarios.sort(reverse=True)\n",
    "print(salarios)"
   ]
  }
 ],
 "metadata": {
  "colab": {
   "name": "Lista 01 - Capitulo 03 - Dominando o Python.ipynb",
   "provenance": [],
   "version": "0.3.2"
  },
  "kernelspec": {
   "display_name": "Python 3",
   "language": "python",
   "name": "python3"
  },
  "language_info": {
   "codemirror_mode": {
    "name": "ipython",
    "version": 3
   },
   "file_extension": ".py",
   "mimetype": "text/x-python",
   "name": "python",
   "nbconvert_exporter": "python",
   "pygments_lexer": "ipython3",
   "version": "3.12.2"
  },
  "widgets": {
   "application/vnd.jupyter.widget-state+json": {
    "state": {},
    "version_major": 2,
    "version_minor": 0
   }
  }
 },
 "nbformat": 4,
 "nbformat_minor": 0
}
